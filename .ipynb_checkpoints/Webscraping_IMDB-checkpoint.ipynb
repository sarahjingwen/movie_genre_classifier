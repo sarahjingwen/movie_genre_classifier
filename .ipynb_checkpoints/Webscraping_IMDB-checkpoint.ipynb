{
 "cells": [
  {
   "cell_type": "markdown",
   "id": "3ea6ed57",
   "metadata": {},
   "source": [
    "# Webscraping from IMDB"
   ]
  },
  {
   "cell_type": "markdown",
   "id": "1e7195d9",
   "metadata": {},
   "source": [
    "* Goal: Webscrape movie title, synopsis and genre from IMDB. \n",
    "* Ensure that each genre is well sampled"
   ]
  },
  {
   "cell_type": "markdown",
   "id": "0c74e0e3",
   "metadata": {},
   "source": [
    "## Set-up"
   ]
  },
  {
   "cell_type": "markdown",
   "id": "05be8150",
   "metadata": {},
   "source": [
    "### Import Libraries"
   ]
  },
  {
   "cell_type": "code",
   "execution_count": 25,
   "id": "64f31b1f",
   "metadata": {},
   "outputs": [],
   "source": [
    "from bs4 import BeautifulSoup\n",
    "import requests\n",
    "import pandas as pd"
   ]
  },
  {
   "cell_type": "markdown",
   "id": "8b59998f",
   "metadata": {},
   "source": [
    "### Initializing "
   ]
  },
  {
   "cell_type": "code",
   "execution_count": 1,
   "id": "1ce30935",
   "metadata": {},
   "outputs": [],
   "source": [
    "# Initializing data fields list\n",
    "movie_title_list = []\n",
    "movie_genre_list = []\n",
    "movie_synopsis_list = []\n",
    "\n",
    "# Initializing helpers to keep track of genre distribution\n",
    "movie_title_set = set()\n",
    "movie_genre_dict = {}"
   ]
  },
  {
   "cell_type": "markdown",
   "id": "7da3de13",
   "metadata": {},
   "source": [
    "### Helper Functions to Fetch and Clean Movie Data"
   ]
  },
  {
   "cell_type": "code",
   "execution_count": 27,
   "id": "7e309e16",
   "metadata": {},
   "outputs": [],
   "source": [
    "# Get Movie Title\n",
    "def getMovieTitle(movie):\n",
    "  try: \n",
    "    return movie.find(class_=\"lister-item-header\").find(\"a\").getText()\n",
    "  except:\n",
    "    return \"NA\"\n",
    "\n",
    "# Gets Movie Synopsis\n",
    "def getMovieSynopsis(movie):\n",
    "  try: \n",
    "    return movie.find(\"div\", class_=\"lister-item-content\").find_all(\"p\")[1].getText().strip().rstrip()\n",
    "  except:\n",
    "    return \"NA\"\n",
    "\n",
    "# Gets Movie Genre\n",
    "def getMovieGenre(movie):\n",
    "  try: \n",
    "    return movie.find(class_=\"genre\").getText().strip().rstrip()\n",
    "  except:\n",
    "    return \"NA\""
   ]
  },
  {
   "cell_type": "markdown",
   "id": "c23c4b5a",
   "metadata": {},
   "source": [
    "### Main Function to Fetch Movie Data"
   ]
  },
  {
   "cell_type": "code",
   "execution_count": 55,
   "id": "619b305e",
   "metadata": {},
   "outputs": [],
   "source": [
    "# Fetch Movie Data and adds them to the data fields lists\n",
    "def fetchData(url):\n",
    "    response = requests.get(url)\n",
    "    soup = BeautifulSoup(response.text, 'html')\n",
    "    \n",
    "    title_list = []\n",
    "    genre_list = []\n",
    "    synopsis_list = []\n",
    "    \n",
    "    movies_list = soup.find_all(\"div\", class_=\"lister-item mode-advanced\")\n",
    "    for movie in movies_list:\n",
    "        movie_title = getMovieTitle(movie)\n",
    "        if movie_title in movie_title_set: \n",
    "            continue\n",
    "            \n",
    "        movie_title_set.add(movie_title)\n",
    "        movie_title_list.append(movie_title)\n",
    "        \n",
    "        movie_genres_string = getMovieGenre(movie)\n",
    "        genres = list(movie_genres_string.split(\", \"))\n",
    "        for genre in genres:\n",
    "            if genre in movie_genre_dict:\n",
    "                movie_genre_dict[genre] += 1\n",
    "            else:\n",
    "                movie_genre_dict[genre] = 1\n",
    "        movie_genre_list.append(movie_genres_string)\n",
    "        \n",
    "        movie_synopsis = getMovieSynopsis(movie)\n",
    "        movie_synopsis_list.append(movie_synopsis)\n",
    "    \n",
    "    response.close()\n",
    "    soup.decompose()"
   ]
  },
  {
   "cell_type": "markdown",
   "id": "752c60e7",
   "metadata": {},
   "source": [
    "## Fetching Movies Data"
   ]
  },
  {
   "cell_type": "markdown",
   "id": "9db24171",
   "metadata": {},
   "source": [
    "Data was fetched by repeatedly looking at the genre frequency distribution and updating the url list to see which genres need more titles."
   ]
  },
  {
   "cell_type": "code",
   "execution_count": 82,
   "id": "369587b3",
   "metadata": {},
   "outputs": [],
   "source": [
    "url_list = [\n",
    "    \"https://www.imdb.com/search/title/?genres=action&title_type=feature&explore=genres&pf_rd_m=A2FGELUUNOQJNL&pf_rd_p=facfbd0c-6f3d-4c05-9348-22eebd58852e&pf_rd_r=WG06R93M90RYQS1FJYVC&pf_rd_s=center-6&pf_rd_t=15051&pf_rd_i=genre&ref_=ft_gnr_mvpop_1\",\n",
    "    \"https://www.imdb.com/search/title/?genres=adventure&title_type=feature&explore=genres&pf_rd_m=A2FGELUUNOQJNL&pf_rd_p=facfbd0c-6f3d-4c05-9348-22eebd58852e&pf_rd_r=WG06R93M90RYQS1FJYVC&pf_rd_s=center-6&pf_rd_t=15051&pf_rd_i=genre&ref_=ft_gnr_mvpop_2\",\n",
    "    \"https://www.imdb.com/search/title/?genres=animation&title_type=feature&explore=genres&pf_rd_m=A2FGELUUNOQJNL&pf_rd_p=facfbd0c-6f3d-4c05-9348-22eebd58852e&pf_rd_r=WG06R93M90RYQS1FJYVC&pf_rd_s=center-6&pf_rd_t=15051&pf_rd_i=genre&ref_=ft_gnr_mvpop_3\",\n",
    "    \"https://www.imdb.com/search/title/?title_type=feature&genres=animation&start=51&explore=genres&ref_=adv_nxt\",\n",
    "    \"https://www.imdb.com/search/title/?genres=biography&title_type=feature&explore=genres&pf_rd_m=A2FGELUUNOQJNL&pf_rd_p=facfbd0c-6f3d-4c05-9348-22eebd58852e&pf_rd_r=WG06R93M90RYQS1FJYVC&pf_rd_s=center-6&pf_rd_t=15051&pf_rd_i=genre&ref_=ft_gnr_mvpop_4\",\n",
    "    \"https://www.imdb.com/search/title/?genres=comedy&title_type=feature&explore=genres&pf_rd_m=A2FGELUUNOQJNL&pf_rd_p=facfbd0c-6f3d-4c05-9348-22eebd58852e&pf_rd_r=WG06R93M90RYQS1FJYVC&pf_rd_s=center-6&pf_rd_t=15051&pf_rd_i=genre&ref_=ft_gnr_mvpop_5\",\n",
    "    \"https://www.imdb.com/search/title/?genres=family&title_type=feature&explore=genres&pf_rd_m=A2FGELUUNOQJNL&pf_rd_p=facfbd0c-6f3d-4c05-9348-22eebd58852e&pf_rd_r=WG06R93M90RYQS1FJYVC&pf_rd_s=center-6&pf_rd_t=15051&pf_rd_i=genre&ref_=ft_gnr_mvpop_9\",\n",
    "    \"https://www.imdb.com/search/title/?genres=fantasy&title_type=feature&explore=genres&pf_rd_m=A2FGELUUNOQJNL&pf_rd_p=facfbd0c-6f3d-4c05-9348-22eebd58852e&pf_rd_r=WG06R93M90RYQS1FJYVC&pf_rd_s=center-6&pf_rd_t=15051&pf_rd_i=genre&ref_=ft_gnr_mvpop_10\",\n",
    "    \"https://www.imdb.com/search/title/?title_type=feature&genres=fantasy&start=51&explore=genres&ref_=adv_nxt\",\n",
    "    \"https://www.imdb.com/search/title/?title_type=feature&genres=fantasy&start=101&explore=genres&ref_=adv_nxt\",\n",
    "    \"https://www.imdb.com/search/title/?genres=film-noir&title_type=feature&explore=genres&pf_rd_m=A2FGELUUNOQJNL&pf_rd_p=facfbd0c-6f3d-4c05-9348-22eebd58852e&pf_rd_r=WG06R93M90RYQS1FJYVC&pf_rd_s=center-6&pf_rd_t=15051&pf_rd_i=genre&ref_=ft_gnr_mvpop_11\",\n",
    "    \"https://www.imdb.com/search/title/?title_type=feature&genres=film-noir&start=51&explore=genres&ref_=adv_nxt\",\n",
    "    \"https://www.imdb.com/search/title/?title_type=feature&genres=film-noir&start=101&explore=genres&ref_=adv_nxt\",\n",
    "    \"https://www.imdb.com/search/title/?genres=history&title_type=feature&explore=genres&pf_rd_m=A2FGELUUNOQJNL&pf_rd_p=facfbd0c-6f3d-4c05-9348-22eebd58852e&pf_rd_r=WG06R93M90RYQS1FJYVC&pf_rd_s=center-6&pf_rd_t=15051&pf_rd_i=genre&ref_=ft_gnr_mvpop_12\", \n",
    "    \"https://www.imdb.com/search/title/?title_type=feature&genres=history&start=51&explore=genres&ref_=adv_nxt\",\n",
    "    \"https://www.imdb.com/search/title/?genres=horror&title_type=feature&explore=genres&pf_rd_m=A2FGELUUNOQJNL&pf_rd_p=facfbd0c-6f3d-4c05-9348-22eebd58852e&pf_rd_r=WG06R93M90RYQS1FJYVC&pf_rd_s=center-6&pf_rd_t=15051&pf_rd_i=genre&ref_=ft_gnr_mvpop_13\",\n",
    "    \"https://www.imdb.com/search/title/?title_type=feature&genres=horror&start=51&explore=genres&ref_=adv_nxt\",\n",
    "    \"https://www.imdb.com/search/title/?genres=music&title_type=feature&explore=genres&pf_rd_m=A2FGELUUNOQJNL&pf_rd_p=facfbd0c-6f3d-4c05-9348-22eebd58852e&pf_rd_r=WG06R93M90RYQS1FJYVC&pf_rd_s=center-6&pf_rd_t=15051&pf_rd_i=genre&ref_=ft_gnr_mvpop_14\",\n",
    "    \"https://www.imdb.com/search/title/?title_type=feature&genres=music&start=51&explore=genres&ref_=adv_nxt\",\n",
    "    \"https://www.imdb.com/search/title/?genres=musical&title_type=feature&explore=genres&pf_rd_m=A2FGELUUNOQJNL&pf_rd_p=facfbd0c-6f3d-4c05-9348-22eebd58852e&pf_rd_r=WG06R93M90RYQS1FJYVC&pf_rd_s=center-6&pf_rd_t=15051&pf_rd_i=genre&ref_=ft_gnr_mvpop_15\",\n",
    "    \"https://www.imdb.com/search/title/?title_type=feature&genres=musical&start=51&explore=genres&ref_=adv_nxt\",\n",
    "    \"https://www.imdb.com/search/title/?title_type=feature&genres=musical&start=101&explore=genres&ref_=adv_nxt\", \n",
    "    \"https://www.imdb.com/search/title/?title_type=feature&genres=musical&start=151&explore=genres&ref_=adv_nxt\",\n",
    "    \"https://www.imdb.com/search/title/?genres=mystery&title_type=feature&explore=genres&pf_rd_m=A2FGELUUNOQJNL&pf_rd_p=facfbd0c-6f3d-4c05-9348-22eebd58852e&pf_rd_r=WG06R93M90RYQS1FJYVC&pf_rd_s=center-6&pf_rd_t=15051&pf_rd_i=genre&ref_=ft_gnr_mvpop_16\", \n",
    "    \"https://www.imdb.com/search/title/?title_type=feature&genres=mystery&start=51&explore=genres&ref_=adv_nxt\",\n",
    "    \"https://www.imdb.com/search/title/?title_type=feature&genres=mystery&start=101&explore=genres&ref_=adv_nxt\",\n",
    "    \"https://www.imdb.com/search/title/?genres=romance&title_type=feature&explore=genres&pf_rd_m=A2FGELUUNOQJNL&pf_rd_p=facfbd0c-6f3d-4c05-9348-22eebd58852e&pf_rd_r=WG06R93M90RYQS1FJYVC&pf_rd_s=center-6&pf_rd_t=15051&pf_rd_i=genre&ref_=ft_gnr_mvpop_17\", \n",
    "    \"https://www.imdb.com/search/title/?genres=sci-fi&title_type=feature&explore=genres&pf_rd_m=A2FGELUUNOQJNL&pf_rd_p=facfbd0c-6f3d-4c05-9348-22eebd58852e&pf_rd_r=WG06R93M90RYQS1FJYVC&pf_rd_s=center-6&pf_rd_t=15051&pf_rd_i=genre&ref_=ft_gnr_mvpop_18\",\n",
    "    \"https://www.imdb.com/search/title/?title_type=feature&genres=sci-fi&start=51&explore=genres&ref_=adv_nxt\",\n",
    "    \"https://www.imdb.com/search/title/?title_type=feature&genres=sci-fi&start=101&explore=genres&ref_=adv_nxt\",\n",
    "    \"https://www.imdb.com/search/title/?genres=sport&title_type=feature&explore=genres&pf_rd_m=A2FGELUUNOQJNL&pf_rd_p=facfbd0c-6f3d-4c05-9348-22eebd58852e&pf_rd_r=WG06R93M90RYQS1FJYVC&pf_rd_s=center-6&pf_rd_t=15051&pf_rd_i=genre&ref_=ft_gnr_mvpop_20\",\n",
    "    \"https://www.imdb.com/search/title/?title_type=feature&genres=sport&start=51&explore=genres&ref_=adv_nxt\",\n",
    "    \"https://www.imdb.com/search/title/?title_type=feature&genres=sport&start=101&explore=genres&ref_=adv_nxt\",\n",
    "    \"https://www.imdb.com/search/title/?genres=thriller&title_type=feature&explore=genres&pf_rd_m=A2FGELUUNOQJNL&pf_rd_p=facfbd0c-6f3d-4c05-9348-22eebd58852e&pf_rd_r=WG06R93M90RYQS1FJYVC&pf_rd_s=center-6&pf_rd_t=15051&pf_rd_i=genre&ref_=ft_gnr_mvpop_22\",\n",
    "    \"https://www.imdb.com/search/title/?genres=war&title_type=feature&explore=genres&pf_rd_m=A2FGELUUNOQJNL&pf_rd_p=facfbd0c-6f3d-4c05-9348-22eebd58852e&pf_rd_r=WG06R93M90RYQS1FJYVC&pf_rd_s=center-6&pf_rd_t=15051&pf_rd_i=genre&ref_=ft_gnr_mvpop_23\",\n",
    "    \"https://www.imdb.com/search/title/?title_type=feature&genres=war&start=51&explore=genres&ref_=adv_nxt\",\n",
    "    \"https://www.imdb.com/search/title/?title_type=feature&genres=war&start=101&explore=genres&ref_=adv_nxt\",\n",
    "    \"https://www.imdb.com/search/title/?title_type=feature&genres=war&start=151&explore=genres&ref_=adv_nxt\",\n",
    "    \"https://www.imdb.com/search/title/?genres=western&title_type=feature&explore=genres&pf_rd_m=A2FGELUUNOQJNL&pf_rd_p=facfbd0c-6f3d-4c05-9348-22eebd58852e&pf_rd_r=WG06R93M90RYQS1FJYVC&pf_rd_s=center-6&pf_rd_t=15051&pf_rd_i=genre&ref_=ft_gnr_mvpop_24\", \n",
    "    \"https://www.imdb.com/search/title/?title_type=feature&genres=western&start=51&explore=genres&ref_=adv_nxt\",\n",
    "]\n",
    "\n",
    "for url in url_list:\n",
    "    fetchData(url)"
   ]
  },
  {
   "cell_type": "code",
   "execution_count": 121,
   "id": "9a6b7639",
   "metadata": {
    "scrolled": true
   },
   "outputs": [
    {
     "data": {
      "text/plain": [
       "{'Action': 363,\n",
       " 'Adventure': 405,\n",
       " 'Fantasy': 127,\n",
       " 'Thriller': 139,\n",
       " 'Crime': 217,\n",
       " 'Drama': 806,\n",
       " 'Sci-Fi': 106,\n",
       " 'Comedy': 391,\n",
       " 'History': 112,\n",
       " 'Horror': 121,\n",
       " 'Animation': 158,\n",
       " 'Mystery': 137,\n",
       " 'Biography': 155,\n",
       " 'Family': 112,\n",
       " 'War': 81,\n",
       " 'Music': 85,\n",
       " 'Romance': 162,\n",
       " 'Sport': 94,\n",
       " 'Western': 59,\n",
       " 'Musical': 78,\n",
       " 'Film-Noir': 137}"
      ]
     },
     "execution_count": 121,
     "metadata": {},
     "output_type": "execute_result"
    }
   ],
   "source": [
    "movie_genre_dict"
   ]
  },
  {
   "cell_type": "code",
   "execution_count": 122,
   "id": "78e4bcba",
   "metadata": {},
   "outputs": [
    {
     "data": {
      "text/plain": [
       "1431"
      ]
     },
     "execution_count": 122,
     "metadata": {},
     "output_type": "execute_result"
    }
   ],
   "source": [
    "len(movie_synopsis_list)"
   ]
  },
  {
   "cell_type": "markdown",
   "id": "03e8f5c1",
   "metadata": {},
   "source": [
    "## Convert to CSV"
   ]
  },
  {
   "cell_type": "code",
   "execution_count": 123,
   "id": "04b3ac02",
   "metadata": {},
   "outputs": [],
   "source": [
    "# Putting it together as pandas dataframe\n",
    "movie_df = pd.DataFrame({\n",
    "    \"title\": movie_title_list,\n",
    "    \"genre\": movie_genre_list,\n",
    "    \"synopsis\": movie_synopsis_list\n",
    "})\n",
    "\n",
    "# Downloading dataframe as a csv file\n",
    "movie_df.to_csv(\"movies.csv\", index=False)"
   ]
  }
 ],
 "metadata": {
  "kernelspec": {
   "display_name": "Python 3 (ipykernel)",
   "language": "python",
   "name": "python3"
  },
  "language_info": {
   "codemirror_mode": {
    "name": "ipython",
    "version": 3
   },
   "file_extension": ".py",
   "mimetype": "text/x-python",
   "name": "python",
   "nbconvert_exporter": "python",
   "pygments_lexer": "ipython3",
   "version": "3.8.10"
  }
 },
 "nbformat": 4,
 "nbformat_minor": 5
}
